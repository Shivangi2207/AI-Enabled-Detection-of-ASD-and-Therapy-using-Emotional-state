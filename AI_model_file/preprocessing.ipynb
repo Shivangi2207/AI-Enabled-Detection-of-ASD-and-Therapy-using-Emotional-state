{
 "cells": [
  {
   "cell_type": "markdown",
   "metadata": {},
   "source": [
    "# Preprocessing and EDA of SSBD+ dataset"
   ]
  },
  {
   "cell_type": "markdown",
   "metadata": {},
   "source": [
    "All relevant imports"
   ]
  },
  {
   "cell_type": "code",
   "execution_count": null,
   "metadata": {},
   "outputs": [],
   "source": [
    "import os\n",
    "import numpy as np\n",
    "import pandas as pd\n",
    "import cv2\n",
    "import torch\n",
    "from torch.utils.data import Dataset, DataLoader\n",
    "import matplotlib.pyplot as plt\n",
    "import imageio"
   ]
  },
  {
   "cell_type": "markdown",
   "metadata": {},
   "source": [
    "Define constants"
   ]
  },
  {
   "cell_type": "code",
   "execution_count": null,
   "metadata": {},
   "outputs": [],
   "source": [
    "\n",
    "VIDEO_CHUNK_SIZE = 40\n",
    "FRAME_HEIGHT = 100\n",
    "FRAME_WIDTH = 100\n",
    "FPS = 10\n",
    "LABEL_THRESHOLD = 0.75\n"
   ]
  },
  {
   "cell_type": "markdown",
   "metadata": {},
   "source": [
    "Function to load and preprocess video chunks"
   ]
  },
  {
   "cell_type": "code",
   "execution_count": null,
   "metadata": {},
   "outputs": [],
   "source": [
    "def load_and_preprocess_video_chunk(video_path):\n",
    "    # Load video using opencv\n",
    "    cap = cv2.VideoCapture(video_path)\n",
    "    \n",
    "    # Read frames and create chunks\n",
    "    frames = []\n",
    "    while True:\n",
    "        ret, frame = cap.read()\n",
    "        if not ret:\n",
    "            break\n",
    "        frames.append(frame)\n",
    "    \n",
    "    # Sample frames at 10 FPS\n",
    "    sampled_frames = frames[::int(cap.get(5)//FPS)]\n",
    "    \n",
    "    # Create video chunks\n",
    "    video_chunks = [sampled_frames[i:i+VIDEO_CHUNK_SIZE] for i in range(0, len(sampled_frames), VIDEO_CHUNK_SIZE//2)]\n",
    "    \n",
    "    # Preprocess each chunk\n",
    "    preprocessed_chunks = []\n",
    "    for chunk in video_chunks:\n",
    "        # Resize frames to 100x100 pixels\n",
    "        resized_frames = [cv2.resize(frame, (FRAME_WIDTH, FRAME_HEIGHT)) for frame in chunk]\n",
    "        \n",
    "        # Convert frames to torch tensor\n",
    "        video_tensor = torch.tensor(resized_frames).permute(3, 0, 1, 2).float() / 255.0\n",
    "        \n",
    "        # Check for stimming action label\n",
    "        label = 1 if chunk.count('stimming') / len(chunk) >= LABEL_THRESHOLD else 0\n",
    "        \n",
    "        preprocessed_chunks.append({'video_tensor': video_tensor, 'label': label})\n",
    "    \n",
    "    return preprocessed_chunks\n"
   ]
  },
  {
   "cell_type": "markdown",
   "metadata": {},
   "source": [
    "# EDA:"
   ]
  },
  {
   "cell_type": "markdown",
   "metadata": {},
   "source": [
    "List files in the dataset directory"
   ]
  },
  {
   "cell_type": "code",
   "execution_count": null,
   "metadata": {},
   "outputs": [],
   "source": [
    "dataset_directory = '/path/to/your/dataset'\n",
    "video_files = [f for f in os.listdir(dataset_directory) if f.endswith('.mp4')]"
   ]
  },
  {
   "cell_type": "code",
   "execution_count": null,
   "metadata": {},
   "outputs": [],
   "source": [
    "# Display some basic information about the dataset\n",
    "print(f\"Number of videos in the dataset: {len(video_files)}\")\n"
   ]
  },
  {
   "cell_type": "code",
   "execution_count": null,
   "metadata": {},
   "outputs": [],
   "source": [
    "\n",
    "# Load and preprocess a sample video chunk\n",
    "sample_video_path = os.path.join(dataset_directory, video_files[0])\n",
    "sample_preprocessed_chunk = load_and_preprocess_video_chunk(sample_video_path)\n",
    "\n",
    "# Display sample frames from the preprocessed chunk\n",
    "fig, axs = plt.subplots(1, VIDEO_CHUNK_SIZE, figsize=(20, 2))\n",
    "for i in range(VIDEO_CHUNK_SIZE):\n",
    "    axs[i].imshow(sample_preprocessed_chunk[0]['video_tensor'][i].permute(1, 2, 0))\n",
    "    axs[i].axis('off')\n",
    "plt.show()\n",
    "\n",
    "# Create a DataFrame for EDA\n",
    "eda_data = {'filename': [], 'label': []}\n",
    "for video_file in video_files:\n",
    "    video_path = os.path.join(dataset_directory, video_file)\n",
    "    preprocessed_chunks = load_and_preprocess_video_chunk(video_path)\n",
    "    label = preprocessed_chunks[0]['label']\n",
    "    eda_data['filename'].append(video_file)\n",
    "    eda_data['label'].append(label)\n",
    "\n",
    "eda_df = pd.DataFrame(eda_data)"
   ]
  },
  {
   "cell_type": "code",
   "execution_count": null,
   "metadata": {},
   "outputs": [],
   "source": [
    "\n",
    "print(eda_df['label'].value_counts())"
   ]
  }
 ],
 "metadata": {
  "language_info": {
   "name": "python"
  }
 },
 "nbformat": 4,
 "nbformat_minor": 2
}
